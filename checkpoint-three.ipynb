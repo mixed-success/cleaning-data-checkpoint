{
 "cells": [
  {
   "cell_type": "markdown",
   "metadata": {
    "azdata_cell_guid": "26037d32-2047-4157-81ef-595916bd66a0"
   },
   "source": [
    "# Checkpoint Three: Cleaning Data\n",
    "\n",
    "Now you are ready to clean your data. Before starting coding, provide the link to your dataset below.\n",
    "\n",
    "My dataset:\n",
    "\n",
    "Import the necessary libraries and create your dataframe(s)."
   ]
  },
  {
   "cell_type": "code",
   "execution_count": 6,
   "metadata": {
    "azdata_cell_guid": "e8adef8e-d0f2-4640-a179-5997f11e82ca"
   },
   "outputs": [],
   "source": [
    "import pandas as pd\n",
    "import json\n",
    "import csv\n",
    "import sqlite3 as sl\n",
    "import numpy as np"
   ]
  },
  {
   "cell_type": "code",
   "execution_count": 7,
   "metadata": {},
   "outputs": [
    {
     "data": {
      "text/html": [
       "<div>\n",
       "<style scoped>\n",
       "    .dataframe tbody tr th:only-of-type {\n",
       "        vertical-align: middle;\n",
       "    }\n",
       "\n",
       "    .dataframe tbody tr th {\n",
       "        vertical-align: top;\n",
       "    }\n",
       "\n",
       "    .dataframe thead th {\n",
       "        text-align: right;\n",
       "    }\n",
       "</style>\n",
       "<table border=\"1\" class=\"dataframe\">\n",
       "  <thead>\n",
       "    <tr style=\"text-align: right;\">\n",
       "      <th></th>\n",
       "      <th>Unnamed: 0</th>\n",
       "      <th>title</th>\n",
       "      <th>authors</th>\n",
       "      <th>journal</th>\n",
       "      <th>year</th>\n",
       "      <th>volume</th>\n",
       "      <th>issue</th>\n",
       "      <th>page_start</th>\n",
       "      <th>page_end</th>\n",
       "      <th>article_type</th>\n",
       "      <th>pub_date</th>\n",
       "      <th>abstract</th>\n",
       "    </tr>\n",
       "  </thead>\n",
       "  <tbody>\n",
       "    <tr>\n",
       "      <th>0</th>\n",
       "      <td>10.1021/acs.inorgchem.0c00001</td>\n",
       "      <td>Pb6O5(NO3)2: A Nonlinear Optical Oxynitrate St...</td>\n",
       "      <td>['Dmitry O. Charkin', 'Artem S. Borisov', 'Igo...</td>\n",
       "      <td>Inorganic Chemistry</td>\n",
       "      <td>2020</td>\n",
       "      <td>59</td>\n",
       "      <td>6</td>\n",
       "      <td>3523.0</td>\n",
       "      <td>3526.0</td>\n",
       "      <td>Communication</td>\n",
       "      <td>February 24, 2020</td>\n",
       "      <td>A high second harmonic generation response is ...</td>\n",
       "    </tr>\n",
       "    <tr>\n",
       "      <th>1</th>\n",
       "      <td>10.1021/acs.inorgchem.0c00003</td>\n",
       "      <td>Fluorinated Biphenyldicarboxylate-Based Metal–...</td>\n",
       "      <td>['Zhao-Ting Lin', 'Qing-Yan Liu*', 'Ling Yang'...</td>\n",
       "      <td>Inorganic Chemistry</td>\n",
       "      <td>2020</td>\n",
       "      <td>59</td>\n",
       "      <td>6</td>\n",
       "      <td>4030.0</td>\n",
       "      <td>4036.0</td>\n",
       "      <td>Article</td>\n",
       "      <td>March 2, 2020</td>\n",
       "      <td>A novel fluorinated biphenyldicarboxylate liga...</td>\n",
       "    </tr>\n",
       "    <tr>\n",
       "      <th>2</th>\n",
       "      <td>10.1021/acs.inorgchem.0c00004</td>\n",
       "      <td>Theoretical Insight into Palladium(II)–Counter...</td>\n",
       "      <td>['Yiying Yang', 'Yanhong Liu', 'Rongxiu Zhu', ...</td>\n",
       "      <td>Inorganic Chemistry</td>\n",
       "      <td>2020</td>\n",
       "      <td>59</td>\n",
       "      <td>7</td>\n",
       "      <td>4741.0</td>\n",
       "      <td>4752.0</td>\n",
       "      <td>Article</td>\n",
       "      <td>March 18, 2020</td>\n",
       "      <td>With two distinct active sites, 2-hydroxy-2′-a...</td>\n",
       "    </tr>\n",
       "    <tr>\n",
       "      <th>3</th>\n",
       "      <td>10.1021/acs.inorgchem.0c00007</td>\n",
       "      <td>Comparative Study for the Cobalt(II)- and Iron...</td>\n",
       "      <td>['Tuhin Ganguly', 'Amit Majumdar*']</td>\n",
       "      <td>Inorganic Chemistry</td>\n",
       "      <td>2020</td>\n",
       "      <td>59</td>\n",
       "      <td>6</td>\n",
       "      <td>4037.0</td>\n",
       "      <td>4048.0</td>\n",
       "      <td>Article</td>\n",
       "      <td>March 5, 2020</td>\n",
       "      <td>A unique Co(II)- and Fe(II)-mediated complete ...</td>\n",
       "    </tr>\n",
       "    <tr>\n",
       "      <th>4</th>\n",
       "      <td>10.1021/acs.inorgchem.0c00008</td>\n",
       "      <td>Synthesis and Characterization of Cu(II) and M...</td>\n",
       "      <td>['Joseph D. Schneider', 'Brett A. Smith', 'Gra...</td>\n",
       "      <td>Inorganic Chemistry</td>\n",
       "      <td>2020</td>\n",
       "      <td>59</td>\n",
       "      <td>8</td>\n",
       "      <td>5433.0</td>\n",
       "      <td>5446.0</td>\n",
       "      <td>Article</td>\n",
       "      <td>April 2, 2020</td>\n",
       "      <td>A group of copper complexes supported by polyd...</td>\n",
       "    </tr>\n",
       "  </tbody>\n",
       "</table>\n",
       "</div>"
      ],
      "text/plain": [
       "                      Unnamed: 0  \\\n",
       "0  10.1021/acs.inorgchem.0c00001   \n",
       "1  10.1021/acs.inorgchem.0c00003   \n",
       "2  10.1021/acs.inorgchem.0c00004   \n",
       "3  10.1021/acs.inorgchem.0c00007   \n",
       "4  10.1021/acs.inorgchem.0c00008   \n",
       "\n",
       "                                               title  \\\n",
       "0  Pb6O5(NO3)2: A Nonlinear Optical Oxynitrate St...   \n",
       "1  Fluorinated Biphenyldicarboxylate-Based Metal–...   \n",
       "2  Theoretical Insight into Palladium(II)–Counter...   \n",
       "3  Comparative Study for the Cobalt(II)- and Iron...   \n",
       "4  Synthesis and Characterization of Cu(II) and M...   \n",
       "\n",
       "                                             authors              journal  \\\n",
       "0  ['Dmitry O. Charkin', 'Artem S. Borisov', 'Igo...  Inorganic Chemistry   \n",
       "1  ['Zhao-Ting Lin', 'Qing-Yan Liu*', 'Ling Yang'...  Inorganic Chemistry   \n",
       "2  ['Yiying Yang', 'Yanhong Liu', 'Rongxiu Zhu', ...  Inorganic Chemistry   \n",
       "3                ['Tuhin Ganguly', 'Amit Majumdar*']  Inorganic Chemistry   \n",
       "4  ['Joseph D. Schneider', 'Brett A. Smith', 'Gra...  Inorganic Chemistry   \n",
       "\n",
       "   year  volume  issue  page_start  page_end   article_type  \\\n",
       "0  2020      59      6      3523.0    3526.0  Communication   \n",
       "1  2020      59      6      4030.0    4036.0        Article   \n",
       "2  2020      59      7      4741.0    4752.0        Article   \n",
       "3  2020      59      6      4037.0    4048.0        Article   \n",
       "4  2020      59      8      5433.0    5446.0        Article   \n",
       "\n",
       "            pub_date                                           abstract  \n",
       "0  February 24, 2020  A high second harmonic generation response is ...  \n",
       "1      March 2, 2020  A novel fluorinated biphenyldicarboxylate liga...  \n",
       "2     March 18, 2020  With two distinct active sites, 2-hydroxy-2′-a...  \n",
       "3      March 5, 2020  A unique Co(II)- and Fe(II)-mediated complete ...  \n",
       "4      April 2, 2020  A group of copper complexes supported by polyd...  "
      ]
     },
     "execution_count": 7,
     "metadata": {},
     "output_type": "execute_result"
    }
   ],
   "source": [
    "chem = pd.read_csv('GfG.csv')\n",
    "chem.head(5)"
   ]
  },
  {
   "cell_type": "code",
   "execution_count": 8,
   "metadata": {},
   "outputs": [],
   "source": [
    "chem['length(pages)'] = chem['page_end'] - chem['page_start']"
   ]
  },
  {
   "cell_type": "code",
   "execution_count": 9,
   "metadata": {},
   "outputs": [],
   "source": [
    "chem.drop(['page_start', 'page_end'], axis = 1, inplace=True)\n",
    "chem.drop(['Unnamed: 0', 'journal', 'volume', 'issue', 'pub_date'], axis = 1, inplace=True)\n",
    "chem.head()\n",
    "chem['num_authors'] = chem['authors'].str.count(',')\n",
    "chem['num_authors'] = chem['num_authors'] +1"
   ]
  },
  {
   "cell_type": "code",
   "execution_count": 10,
   "metadata": {},
   "outputs": [
    {
     "data": {
      "text/html": [
       "<div>\n",
       "<style scoped>\n",
       "    .dataframe tbody tr th:only-of-type {\n",
       "        vertical-align: middle;\n",
       "    }\n",
       "\n",
       "    .dataframe tbody tr th {\n",
       "        vertical-align: top;\n",
       "    }\n",
       "\n",
       "    .dataframe thead th {\n",
       "        text-align: right;\n",
       "    }\n",
       "</style>\n",
       "<table border=\"1\" class=\"dataframe\">\n",
       "  <thead>\n",
       "    <tr style=\"text-align: right;\">\n",
       "      <th></th>\n",
       "      <th>num_authors</th>\n",
       "      <th>length(pages)</th>\n",
       "    </tr>\n",
       "  </thead>\n",
       "  <tbody>\n",
       "    <tr>\n",
       "      <th>mean</th>\n",
       "      <td>4.23192</td>\n",
       "      <td>5.722406</td>\n",
       "    </tr>\n",
       "    <tr>\n",
       "      <th>min</th>\n",
       "      <td>1.00000</td>\n",
       "      <td>0.000000</td>\n",
       "    </tr>\n",
       "    <tr>\n",
       "      <th>max</th>\n",
       "      <td>72.00000</td>\n",
       "      <td>41.000000</td>\n",
       "    </tr>\n",
       "  </tbody>\n",
       "</table>\n",
       "</div>"
      ],
      "text/plain": [
       "      num_authors  length(pages)\n",
       "mean      4.23192       5.722406\n",
       "min       1.00000       0.000000\n",
       "max      72.00000      41.000000"
      ]
     },
     "execution_count": 10,
     "metadata": {},
     "output_type": "execute_result"
    }
   ],
   "source": [
    "chem.aggregate({\"num_authors\":['mean', 'min', 'max'],\n",
    "              \"length(pages)\":['mean', 'min', 'max']})"
   ]
  },
  {
   "cell_type": "markdown",
   "metadata": {
    "azdata_cell_guid": "e172475a-c4ee-414a-8367-9965355dbba6"
   },
   "source": [
    "## Missing Data\n",
    "\n",
    "Test your dataset for missing data and handle it as needed. Make notes in the form of code comments as to your thought process."
   ]
  },
  {
   "cell_type": "code",
   "execution_count": 13,
   "metadata": {},
   "outputs": [
    {
     "name": "stdout",
     "output_type": "stream",
     "text": [
      "title             object\n",
      "authors           object\n",
      "year               int64\n",
      "article_type      object\n",
      "abstract          object\n",
      "length(pages)    float64\n",
      "num_authors        int64\n",
      "dtype: object\n"
     ]
    }
   ],
   "source": [
    "print(chem.dtypes)"
   ]
  },
  {
   "cell_type": "code",
   "execution_count": 15,
   "metadata": {},
   "outputs": [],
   "source": [
    "import seaborn as sns"
   ]
  },
  {
   "cell_type": "code",
   "execution_count": 16,
   "metadata": {},
   "outputs": [
    {
     "data": {
      "text/plain": [
       "<AxesSubplot:>"
      ]
     },
     "execution_count": 16,
     "metadata": {},
     "output_type": "execute_result"
    },
    {
     "data": {
      "image/png": "[encoded data removed]",
      "text/plain": [
       "<Figure size 640x480 with 2 Axes>"
      ]
     },
     "metadata": {},
     "output_type": "display_data"
    }
   ],
   "source": [
    "# Plot a heatmap of any missing data\n",
    "\n",
    "cols = chem.columns[:30] # first 30 columns\n",
    "colours = ['#000099', '#ffff00'] # specify the colours - yellow is missing. blue is not missing.\n",
    "sns.heatmap(chem[cols].isnull(), cmap=sns.color_palette(colours))"
   ]
  },
  {
   "cell_type": "code",
   "execution_count": 17,
   "metadata": {},
   "outputs": [
    {
     "name": "stdout",
     "output_type": "stream",
     "text": [
      "title - 0%\n",
      "authors - 0%\n",
      "year - 0%\n",
      "article_type - 0%\n",
      "abstract - 48%\n",
      "length(pages) - 1%\n",
      "num_authors - 0%\n"
     ]
    }
   ],
   "source": [
    "for col in chem.columns:\n",
    "    pct_missing = np.mean(chem[col].isnull())\n",
    "    print('{} - {}%'.format(col, round(pct_missing*100)))"
   ]
  },
  {
   "cell_type": "markdown",
   "metadata": {
    "azdata_cell_guid": "1233f543-e9a0-4f78-96f5-d7536554102e"
   },
   "source": [
    "## Irregular Data\n",
    "\n",
    "Detect outliers in your dataset and handle them as needed. Use code comments to make notes about your thought process."
   ]
  },
  {
   "cell_type": "code",
   "execution_count": 11,
   "metadata": {
    "azdata_cell_guid": "efed50ae-16f0-471d-98e2-632553a74c12"
   },
   "outputs": [
    {
     "data": {
      "text/html": [
       "<div>\n",
       "<style scoped>\n",
       "    .dataframe tbody tr th:only-of-type {\n",
       "        vertical-align: middle;\n",
       "    }\n",
       "\n",
       "    .dataframe tbody tr th {\n",
       "        vertical-align: top;\n",
       "    }\n",
       "\n",
       "    .dataframe thead th {\n",
       "        text-align: right;\n",
       "    }\n",
       "</style>\n",
       "<table border=\"1\" class=\"dataframe\">\n",
       "  <thead>\n",
       "    <tr style=\"text-align: right;\">\n",
       "      <th></th>\n",
       "      <th>num_authors</th>\n",
       "      <th>length(pages)</th>\n",
       "    </tr>\n",
       "  </thead>\n",
       "  <tbody>\n",
       "    <tr>\n",
       "      <th>mean</th>\n",
       "      <td>4.23192</td>\n",
       "      <td>5.722406</td>\n",
       "    </tr>\n",
       "    <tr>\n",
       "      <th>min</th>\n",
       "      <td>1.00000</td>\n",
       "      <td>0.000000</td>\n",
       "    </tr>\n",
       "    <tr>\n",
       "      <th>max</th>\n",
       "      <td>72.00000</td>\n",
       "      <td>41.000000</td>\n",
       "    </tr>\n",
       "  </tbody>\n",
       "</table>\n",
       "</div>"
      ],
      "text/plain": [
       "      num_authors  length(pages)\n",
       "mean      4.23192       5.722406\n",
       "min       1.00000       0.000000\n",
       "max      72.00000      41.000000"
      ]
     },
     "execution_count": 11,
     "metadata": {},
     "output_type": "execute_result"
    }
   ],
   "source": [
    "chem.aggregate({\"num_authors\":['mean', 'min', 'max'],\n",
    "              \"length(pages)\":['mean', 'min', 'max']})"
   ]
  },
  {
   "cell_type": "code",
   "execution_count": 12,
   "metadata": {},
   "outputs": [
    {
     "data": {
      "text/html": [
       "<div>\n",
       "<style scoped>\n",
       "    .dataframe tbody tr th:only-of-type {\n",
       "        vertical-align: middle;\n",
       "    }\n",
       "\n",
       "    .dataframe tbody tr th {\n",
       "        vertical-align: top;\n",
       "    }\n",
       "\n",
       "    .dataframe thead th {\n",
       "        text-align: right;\n",
       "    }\n",
       "</style>\n",
       "<table border=\"1\" class=\"dataframe\">\n",
       "  <thead>\n",
       "    <tr style=\"text-align: right;\">\n",
       "      <th></th>\n",
       "      <th>year</th>\n",
       "      <th>length(pages)</th>\n",
       "      <th>num_authors</th>\n",
       "    </tr>\n",
       "  </thead>\n",
       "  <tbody>\n",
       "    <tr>\n",
       "      <th>count</th>\n",
       "      <td>63371.000000</td>\n",
       "      <td>62559.000000</td>\n",
       "      <td>63371.00000</td>\n",
       "    </tr>\n",
       "    <tr>\n",
       "      <th>mean</th>\n",
       "      <td>1996.461189</td>\n",
       "      <td>5.722406</td>\n",
       "      <td>4.23192</td>\n",
       "    </tr>\n",
       "    <tr>\n",
       "      <th>std</th>\n",
       "      <td>16.264526</td>\n",
       "      <td>3.337705</td>\n",
       "      <td>2.40813</td>\n",
       "    </tr>\n",
       "    <tr>\n",
       "      <th>min</th>\n",
       "      <td>1962.000000</td>\n",
       "      <td>0.000000</td>\n",
       "      <td>1.00000</td>\n",
       "    </tr>\n",
       "    <tr>\n",
       "      <th>25%</th>\n",
       "      <td>1984.000000</td>\n",
       "      <td>3.000000</td>\n",
       "      <td>2.00000</td>\n",
       "    </tr>\n",
       "    <tr>\n",
       "      <th>50%</th>\n",
       "      <td>1998.000000</td>\n",
       "      <td>5.000000</td>\n",
       "      <td>4.00000</td>\n",
       "    </tr>\n",
       "    <tr>\n",
       "      <th>75%</th>\n",
       "      <td>2011.000000</td>\n",
       "      <td>8.000000</td>\n",
       "      <td>5.00000</td>\n",
       "    </tr>\n",
       "    <tr>\n",
       "      <th>max</th>\n",
       "      <td>2020.000000</td>\n",
       "      <td>41.000000</td>\n",
       "      <td>72.00000</td>\n",
       "    </tr>\n",
       "  </tbody>\n",
       "</table>\n",
       "</div>"
      ],
      "text/plain": [
       "               year  length(pages)  num_authors\n",
       "count  63371.000000   62559.000000  63371.00000\n",
       "mean    1996.461189       5.722406      4.23192\n",
       "std       16.264526       3.337705      2.40813\n",
       "min     1962.000000       0.000000      1.00000\n",
       "25%     1984.000000       3.000000      2.00000\n",
       "50%     1998.000000       5.000000      4.00000\n",
       "75%     2011.000000       8.000000      5.00000\n",
       "max     2020.000000      41.000000     72.00000"
      ]
     },
     "execution_count": 12,
     "metadata": {},
     "output_type": "execute_result"
    }
   ],
   "source": [
    "chem.describe()"
   ]
  },
  {
   "cell_type": "code",
   "execution_count": null,
   "metadata": {},
   "outputs": [],
   "source": []
  },
  {
   "cell_type": "markdown",
   "metadata": {
    "azdata_cell_guid": "6f5b8ee0-bab3-44bc-958a-67d1e4c0407f"
   },
   "source": [
    "## Unnecessary Data\n",
    "\n",
    "Look for the different types of unnecessary data in your dataset and address it as needed. Make sure to use code comments to illustrate your thought process."
   ]
  },
  {
   "cell_type": "code",
   "execution_count": 22,
   "metadata": {},
   "outputs": [
    {
     "data": {
      "text/plain": [
       "array(['Communication', 'Article', 'Forum Article', 'Editorial',\n",
       "       'Viewpoint', 'Addition/Correction', 'Featured Article',\n",
       "       'Award Paper', 'Retraction', 'Note', 'article'], dtype=object)"
      ]
     },
     "execution_count": 22,
     "metadata": {},
     "output_type": "execute_result"
    }
   ],
   "source": [
    "chem.article_type.unique()"
   ]
  },
  {
   "cell_type": "code",
   "execution_count": 23,
   "metadata": {},
   "outputs": [],
   "source": [
    "list_of_values = ['Communication', 'Forum Article', 'Editorial',\n",
    "       'Viewpoint', 'Addition/Correction',\n",
    "       'Award Paper', 'Retraction', 'Note']"
   ]
  },
  {
   "cell_type": "code",
   "execution_count": 28,
   "metadata": {
    "azdata_cell_guid": "e788a239-2fbf-41de-9bd3-19e52e3b187c"
   },
   "outputs": [],
   "source": [
    "chem = chem[chem.article_type.isin(list_of_values) == False] # going to drop the articles that aren't actually research"
   ]
  },
  {
   "cell_type": "markdown",
   "metadata": {
    "azdata_cell_guid": "53e0cf94-c68a-4fa0-9849-9505a66bcce6"
   },
   "source": [
    "## Inconsistent Data\n",
    "\n",
    "Check for inconsistent data and address any that arises. As always, use code comments to illustrate your thought process."
   ]
  },
  {
   "cell_type": "code",
   "execution_count": 29,
   "metadata": {
    "azdata_cell_guid": "e9de6624-812a-43f8-8e20-93b4a49b091f"
   },
   "outputs": [
    {
     "name": "stdout",
     "output_type": "stream",
     "text": [
      "(57405, 7)\n",
      "(56276, 6)\n"
     ]
    }
   ],
   "source": [
    "df_dedupped = chem.drop('title', axis=1).drop_duplicates()\n",
    "print(chem.shape)\n",
    "print(df_dedupped.shape)"
   ]
  },
  {
   "cell_type": "code",
   "execution_count": 30,
   "metadata": {},
   "outputs": [
    {
     "data": {
      "text/html": [
       "<div>\n",
       "<style scoped>\n",
       "    .dataframe tbody tr th:only-of-type {\n",
       "        vertical-align: middle;\n",
       "    }\n",
       "\n",
       "    .dataframe tbody tr th {\n",
       "        vertical-align: top;\n",
       "    }\n",
       "\n",
       "    .dataframe thead th {\n",
       "        text-align: right;\n",
       "    }\n",
       "</style>\n",
       "<table border=\"1\" class=\"dataframe\">\n",
       "  <thead>\n",
       "    <tr style=\"text-align: right;\">\n",
       "      <th></th>\n",
       "      <th>title</th>\n",
       "      <th>authors</th>\n",
       "      <th>year</th>\n",
       "      <th>article_type</th>\n",
       "      <th>abstract</th>\n",
       "      <th>length(pages)</th>\n",
       "      <th>num_authors</th>\n",
       "    </tr>\n",
       "  </thead>\n",
       "  <tbody>\n",
       "    <tr>\n",
       "      <th>1</th>\n",
       "      <td>Fluorinated Biphenyldicarboxylate-Based Metal–...</td>\n",
       "      <td>['Zhao-Ting Lin', 'Qing-Yan Liu*', 'Ling Yang'...</td>\n",
       "      <td>2020</td>\n",
       "      <td>Article</td>\n",
       "      <td>A novel fluorinated biphenyldicarboxylate liga...</td>\n",
       "      <td>6.0</td>\n",
       "      <td>6</td>\n",
       "    </tr>\n",
       "    <tr>\n",
       "      <th>2</th>\n",
       "      <td>Theoretical Insight into Palladium(II)–Counter...</td>\n",
       "      <td>['Yiying Yang', 'Yanhong Liu', 'Rongxiu Zhu', ...</td>\n",
       "      <td>2020</td>\n",
       "      <td>Article</td>\n",
       "      <td>With two distinct active sites, 2-hydroxy-2′-a...</td>\n",
       "      <td>11.0</td>\n",
       "      <td>4</td>\n",
       "    </tr>\n",
       "    <tr>\n",
       "      <th>3</th>\n",
       "      <td>Comparative Study for the Cobalt(II)- and Iron...</td>\n",
       "      <td>['Tuhin Ganguly', 'Amit Majumdar*']</td>\n",
       "      <td>2020</td>\n",
       "      <td>Article</td>\n",
       "      <td>A unique Co(II)- and Fe(II)-mediated complete ...</td>\n",
       "      <td>11.0</td>\n",
       "      <td>2</td>\n",
       "    </tr>\n",
       "    <tr>\n",
       "      <th>4</th>\n",
       "      <td>Synthesis and Characterization of Cu(II) and M...</td>\n",
       "      <td>['Joseph D. Schneider', 'Brett A. Smith', 'Gra...</td>\n",
       "      <td>2020</td>\n",
       "      <td>Article</td>\n",
       "      <td>A group of copper complexes supported by polyd...</td>\n",
       "      <td>13.0</td>\n",
       "      <td>7</td>\n",
       "    </tr>\n",
       "    <tr>\n",
       "      <th>5</th>\n",
       "      <td>Four Lead-free Layered Double Perovskites with...</td>\n",
       "      <td>['Eric T. McClure', 'Abigail P. McCormick', 'P...</td>\n",
       "      <td>2020</td>\n",
       "      <td>Article</td>\n",
       "      <td>Herein we report the synthesis, structure, and...</td>\n",
       "      <td>7.0</td>\n",
       "      <td>3</td>\n",
       "    </tr>\n",
       "  </tbody>\n",
       "</table>\n",
       "</div>"
      ],
      "text/plain": [
       "                                               title  \\\n",
       "1  Fluorinated Biphenyldicarboxylate-Based Metal–...   \n",
       "2  Theoretical Insight into Palladium(II)–Counter...   \n",
       "3  Comparative Study for the Cobalt(II)- and Iron...   \n",
       "4  Synthesis and Characterization of Cu(II) and M...   \n",
       "5  Four Lead-free Layered Double Perovskites with...   \n",
       "\n",
       "                                             authors  year article_type  \\\n",
       "1  ['Zhao-Ting Lin', 'Qing-Yan Liu*', 'Ling Yang'...  2020      Article   \n",
       "2  ['Yiying Yang', 'Yanhong Liu', 'Rongxiu Zhu', ...  2020      Article   \n",
       "3                ['Tuhin Ganguly', 'Amit Majumdar*']  2020      Article   \n",
       "4  ['Joseph D. Schneider', 'Brett A. Smith', 'Gra...  2020      Article   \n",
       "5  ['Eric T. McClure', 'Abigail P. McCormick', 'P...  2020      Article   \n",
       "\n",
       "                                            abstract  length(pages)  \\\n",
       "1  A novel fluorinated biphenyldicarboxylate liga...            6.0   \n",
       "2  With two distinct active sites, 2-hydroxy-2′-a...           11.0   \n",
       "3  A unique Co(II)- and Fe(II)-mediated complete ...           11.0   \n",
       "4  A group of copper complexes supported by polyd...           13.0   \n",
       "5  Herein we report the synthesis, structure, and...            7.0   \n",
       "\n",
       "   num_authors  \n",
       "1            6  \n",
       "2            4  \n",
       "3            2  \n",
       "4            7  \n",
       "5            3  "
      ]
     },
     "execution_count": 30,
     "metadata": {},
     "output_type": "execute_result"
    }
   ],
   "source": [
    "chem.head()"
   ]
  },
  {
   "cell_type": "code",
   "execution_count": 32,
   "metadata": {},
   "outputs": [
    {
     "data": {
      "text/html": [
       "<div>\n",
       "<style scoped>\n",
       "    .dataframe tbody tr th:only-of-type {\n",
       "        vertical-align: middle;\n",
       "    }\n",
       "\n",
       "    .dataframe tbody tr th {\n",
       "        vertical-align: top;\n",
       "    }\n",
       "\n",
       "    .dataframe thead th {\n",
       "        text-align: right;\n",
       "    }\n",
       "</style>\n",
       "<table border=\"1\" class=\"dataframe\">\n",
       "  <thead>\n",
       "    <tr style=\"text-align: right;\">\n",
       "      <th></th>\n",
       "      <th>year</th>\n",
       "      <th>length(pages)</th>\n",
       "      <th>num_authors</th>\n",
       "    </tr>\n",
       "  </thead>\n",
       "  <tbody>\n",
       "    <tr>\n",
       "      <th>count</th>\n",
       "      <td>57405.000000</td>\n",
       "      <td>56593.000000</td>\n",
       "      <td>57405.000000</td>\n",
       "    </tr>\n",
       "    <tr>\n",
       "      <th>mean</th>\n",
       "      <td>1995.291003</td>\n",
       "      <td>6.054212</td>\n",
       "      <td>4.186238</td>\n",
       "    </tr>\n",
       "    <tr>\n",
       "      <th>std</th>\n",
       "      <td>16.499562</td>\n",
       "      <td>3.238809</td>\n",
       "      <td>2.389433</td>\n",
       "    </tr>\n",
       "    <tr>\n",
       "      <th>min</th>\n",
       "      <td>1962.000000</td>\n",
       "      <td>0.000000</td>\n",
       "      <td>1.000000</td>\n",
       "    </tr>\n",
       "    <tr>\n",
       "      <th>25%</th>\n",
       "      <td>1982.000000</td>\n",
       "      <td>4.000000</td>\n",
       "      <td>2.000000</td>\n",
       "    </tr>\n",
       "    <tr>\n",
       "      <th>50%</th>\n",
       "      <td>1996.000000</td>\n",
       "      <td>6.000000</td>\n",
       "      <td>4.000000</td>\n",
       "    </tr>\n",
       "    <tr>\n",
       "      <th>75%</th>\n",
       "      <td>2010.000000</td>\n",
       "      <td>8.000000</td>\n",
       "      <td>5.000000</td>\n",
       "    </tr>\n",
       "    <tr>\n",
       "      <th>max</th>\n",
       "      <td>2020.000000</td>\n",
       "      <td>29.000000</td>\n",
       "      <td>44.000000</td>\n",
       "    </tr>\n",
       "  </tbody>\n",
       "</table>\n",
       "</div>"
      ],
      "text/plain": [
       "               year  length(pages)   num_authors\n",
       "count  57405.000000   56593.000000  57405.000000\n",
       "mean    1995.291003       6.054212      4.186238\n",
       "std       16.499562       3.238809      2.389433\n",
       "min     1962.000000       0.000000      1.000000\n",
       "25%     1982.000000       4.000000      2.000000\n",
       "50%     1996.000000       6.000000      4.000000\n",
       "75%     2010.000000       8.000000      5.000000\n",
       "max     2020.000000      29.000000     44.000000"
      ]
     },
     "execution_count": 32,
     "metadata": {},
     "output_type": "execute_result"
    }
   ],
   "source": [
    "chem.describe()"
   ]
  },
  {
   "cell_type": "code",
   "execution_count": 33,
   "metadata": {},
   "outputs": [
    {
     "name": "stdout",
     "output_type": "stream",
     "text": [
      "1        [['Zhao-Ting Lin',  'Qing-Yan Liu*',  'Ling Ya...\n",
      "2        [['Yiying Yang',  'Yanhong Liu',  'Rongxiu Zhu...\n",
      "3                   [['Tuhin Ganguly',  'Amit Majumdar*']]\n",
      "4        [['Joseph D. Schneider',  'Brett A. Smith',  '...\n",
      "5        [['Eric T. McClure',  'Abigail P. McCormick', ...\n",
      "                               ...                        \n",
      "63366                                                 [[]]\n",
      "63367                                                 [[]]\n",
      "63368                                                 [[]]\n",
      "63369                                                 [[]]\n",
      "63370                                                 [[]]\n",
      "Name: authors, Length: 57405, dtype: object\n",
      "Max number of authors =  44\n",
      "Index =  38470\n"
     ]
    }
   ],
   "source": [
    "num_authors = chem[\"authors\"].str.split(\",\")\n",
    "\n",
    "print(num_authors)\n",
    "print(\"Max number of authors = \", num_authors.str.len().max())\n",
    "print(\"Index = \", num_authors.str.len().idxmax())\n",
    "# curious to know why a paper has 72 authors, looking for the paper"
   ]
  },
  {
   "cell_type": "code",
   "execution_count": 35,
   "metadata": {},
   "outputs": [
    {
     "data": {
      "text/html": [
       "<div>\n",
       "<style scoped>\n",
       "    .dataframe tbody tr th:only-of-type {\n",
       "        vertical-align: middle;\n",
       "    }\n",
       "\n",
       "    .dataframe tbody tr th {\n",
       "        vertical-align: top;\n",
       "    }\n",
       "\n",
       "    .dataframe thead th {\n",
       "        text-align: right;\n",
       "    }\n",
       "</style>\n",
       "<table border=\"1\" class=\"dataframe\">\n",
       "  <thead>\n",
       "    <tr style=\"text-align: right;\">\n",
       "      <th></th>\n",
       "      <th>title</th>\n",
       "      <th>authors</th>\n",
       "      <th>year</th>\n",
       "      <th>article_type</th>\n",
       "      <th>abstract</th>\n",
       "      <th>length(pages)</th>\n",
       "      <th>num_authors</th>\n",
       "    </tr>\n",
       "  </thead>\n",
       "  <tbody>\n",
       "    <tr>\n",
       "      <th>38470</th>\n",
       "      <td>Superheavy Element Flerovium (Element 114) Is ...</td>\n",
       "      <td>['Alexander Yakushev', 'Jacklyn M. Gates', 'An...</td>\n",
       "      <td>2014</td>\n",
       "      <td>Article</td>\n",
       "      <td>The electron shell structure of superheavy ele...</td>\n",
       "      <td>5.0</td>\n",
       "      <td>44</td>\n",
       "    </tr>\n",
       "  </tbody>\n",
       "</table>\n",
       "</div>"
      ],
      "text/plain": [
       "                                                   title  \\\n",
       "38470  Superheavy Element Flerovium (Element 114) Is ...   \n",
       "\n",
       "                                                 authors  year article_type  \\\n",
       "38470  ['Alexander Yakushev', 'Jacklyn M. Gates', 'An...  2014      Article   \n",
       "\n",
       "                                                abstract  length(pages)  \\\n",
       "38470  The electron shell structure of superheavy ele...            5.0   \n",
       "\n",
       "       num_authors  \n",
       "38470           44  "
      ]
     },
     "execution_count": 35,
     "metadata": {},
     "output_type": "execute_result"
    }
   ],
   "source": [
    "some_list = [38470]\n",
    "chem_filtered = chem[chem.index.isin(some_list)]\n",
    "chem_filtered.head()"
   ]
  },
  {
   "cell_type": "markdown",
   "metadata": {
    "azdata_cell_guid": "dedc0bfe-17d0-40b2-914f-2ddb54f9ce0d"
   },
   "source": [
    "## Summarize Your Results\n",
    "\n",
    "Make note of your answers to the following questions.\n",
    "\n",
    "1. Did you find all four types of dirty data in your dataset?\n",
    "2. Did the process of cleaning your data give you new insights into your dataset?\n",
    "3. Is there anything you would like to make note of when it comes to manipulating the data and making visualizations?"
   ]
  }
 ],
 "metadata": {
  "kernelspec": {
   "display_name": "Python 3 (ipykernel)",
   "language": "python",
   "name": "python3"
  },
  "language_info": {
   "codemirror_mode": {
    "name": "ipython",
    "version": 3
   },
   "file_extension": ".py",
   "mimetype": "text/x-python",
   "name": "python",
   "nbconvert_exporter": "python",
   "pygments_lexer": "ipython3",
   "version": "3.9.13"
  }
 },
 "nbformat": 4,
 "nbformat_minor": 2
}
